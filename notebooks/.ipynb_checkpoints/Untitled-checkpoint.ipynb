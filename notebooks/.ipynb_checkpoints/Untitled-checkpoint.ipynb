{
 "cells": [
  {
   "cell_type": "code",
   "execution_count": 121,
   "metadata": {},
   "outputs": [],
   "source": [
    "import pandas as pd\n",
    "import numpy as np\n",
    "from selenium import webdriver\n",
    "from selenium.webdriver.common.keys import Keys\n",
    "import time\n",
    "from webdriver_manager.chrome import ChromeDriverManager\n",
    "from selenium.webdriver.support import expected_conditions as ec\n",
    "from selenium.webdriver.support.ui import WebDriverWait\n",
    "from selenium.webdriver.support.ui import Select\n",
    "from selenium.webdriver.common.action_chains import ActionChains\n",
    "from selenium.webdriver.common.by import By"
   ]
  },
  {
   "cell_type": "code",
   "execution_count": 66,
   "metadata": {},
   "outputs": [],
   "source": [
    "USERNAME = \"IR08045\"\n",
    "PASSWORD = \"FAPELL6\""
   ]
  },
  {
   "cell_type": "code",
   "execution_count": 199,
   "metadata": {},
   "outputs": [],
   "source": [
    "def broweselenium():\n",
    "    browser = webdriver.Chrome(ChromeDriverManager().install())\n",
    "    browser.maximize_window()\n",
    "    browser.get(\"https://bancaonline.bankinter.com/gestion/login.xhtml\")\n",
    "    browser.implicitly_wait(5)\n",
    "    browser.find_element_by_xpath(\"//a[contains(text(),'aceptar')]\").click()\n",
    " \n",
    "    username = browser.find_element_by_name(\"uid\")\n",
    "    password = browser.find_element_by_name(\"password\")\n",
    "    \n",
    "    username.send_keys(USERNAME)\n",
    "    password.send_keys(PASSWORD)\n",
    "    browser.find_element_by_id(\"btEntrar\").click()\n",
    "    browser.implicitly_wait(10)\n",
    "    \n",
    "    browser.find_element_by_xpath('//*[@id=\"1\"]/div[1]/a').click()\n",
    "\n",
    "    "
   ]
  },
  {
   "cell_type": "code",
   "execution_count": null,
   "metadata": {},
   "outputs": [],
   "source": []
  }
 ],
 "metadata": {
  "kernelspec": {
   "display_name": "Python 3",
   "language": "python",
   "name": "python3"
  },
  "language_info": {
   "codemirror_mode": {
    "name": "ipython",
    "version": 3
   },
   "file_extension": ".py",
   "mimetype": "text/x-python",
   "name": "python",
   "nbconvert_exporter": "python",
   "pygments_lexer": "ipython3",
   "version": "3.9.1"
  }
 },
 "nbformat": 4,
 "nbformat_minor": 4
}
