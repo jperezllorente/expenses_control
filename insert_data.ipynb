{
 "cells": [
  {
   "cell_type": "code",
   "execution_count": 1,
   "metadata": {},
   "outputs": [],
   "source": [
    "import pandas as pd\n",
    "pd.set_option('display.max_rows',500)\n",
    "import numpy as np\n",
    "from pymongo import MongoClient, UpdateOne\n",
    "from datetime import datetime, timedelta\n",
    "import glob, os, shutil\n",
    "import time"
   ]
  },
  {
   "cell_type": "code",
   "execution_count": 2,
   "metadata": {},
   "outputs": [],
   "source": [
    "import matplotlib.pyplot as plt"
   ]
  },
  {
   "cell_type": "code",
   "execution_count": 3,
   "metadata": {},
   "outputs": [],
   "source": [
    "from selenium import webdriver\n",
    "from selenium.webdriver.common.keys import Keys\n",
    "from webdriver_manager.chrome import ChromeDriverManager\n",
    "from selenium.webdriver.support import expected_conditions as ec\n",
    "from selenium.webdriver.support.ui import WebDriverWait\n",
    "from selenium.webdriver.support.ui import Select\n",
    "from selenium.webdriver.common.action_chains import ActionChains\n",
    "from selenium.webdriver.common.by import By"
   ]
  },
  {
   "cell_type": "markdown",
   "metadata": {},
   "source": [
    "### MongoDB Conexion"
   ]
  },
  {
   "cell_type": "code",
   "execution_count": 5,
   "metadata": {},
   "outputs": [],
   "source": [
    "conn = MongoClient(\"localhost:27017\")\n",
    "db = conn.get_database(\"expenses_control\")"
   ]
  },
  {
   "cell_type": "code",
   "execution_count": 6,
   "metadata": {},
   "outputs": [],
   "source": [
    "move = db.get_collection('movements')"
   ]
  },
  {
   "cell_type": "code",
   "execution_count": 7,
   "metadata": {},
   "outputs": [],
   "source": [
    "def remove_docs():\n",
    "    return move.remove({})"
   ]
  },
  {
   "cell_type": "code",
   "execution_count": 8,
   "metadata": {},
   "outputs": [],
   "source": [
    "def collection_to_pd(collection):\n",
    "    return pd.DataFrame(list(collection.find({},{'_id':0})))"
   ]
  },
  {
   "cell_type": "code",
   "execution_count": 9,
   "metadata": {},
   "outputs": [],
   "source": [
    "def insert_single_object(collection):\n",
    "    date = datetime.now().strftime(\"%d/%m/%Y\")\n",
    "    description = str(input('Describe the money flow briefly:'))\n",
    "    quantity = float(input('Insert the correcto amount rounded to two decimal numbers:'))\n",
    "    category = input('To what category does the movement belong?')\n",
    "    return collection.insert_one({'date':date,\n",
    "                            'description':description,\n",
    "                            'quantity':quantity,\n",
    "                            'category':category})"
   ]
  },
  {
   "cell_type": "markdown",
   "metadata": {},
   "source": [
    "### Downloading and preparing bank data"
   ]
  },
  {
   "cell_type": "code",
   "execution_count": 10,
   "metadata": {},
   "outputs": [],
   "source": [
    "def data_extraction():\n",
    "    \n",
    "    os.environ['WDM_LOG_LEVEL'] = '0'\n",
    "    browser = webdriver.Chrome(ChromeDriverManager().install())\n",
    "    wait = WebDriverWait(browser, 10)\n",
    "    browser.maximize_window()\n",
    "    browser.get(\"https://bancaonline.bankinter.com/gestion/login.xhtml\")\n",
    "    browser.implicitly_wait(5)\n",
    "    browser.find_element_by_xpath(\"//a[contains(text(),'aceptar')]\").click()\n",
    " \n",
    "    username = browser.find_element_by_name(\"uid\")\n",
    "    password = browser.find_element_by_name(\"password\")\n",
    "    \n",
    "    username.send_keys(USERNAME)\n",
    "    password.send_keys(PASSWORD)\n",
    "    browser.find_element_by_id(\"btEntrar\").click()\n",
    "    browser.implicitly_wait(5)\n",
    "    \n",
    "    charges = wait.until(ec.element_to_be_clickable((By.XPATH, '/html/body/main/div/div/section/div[1]/form[1]/section/div/div[7]/div[1]/div[2]/div[3]/ul/li[1]')))\n",
    "    charges.click()\n",
    "    \n",
    "    download_charges_excel = wait.until(ec.element_to_be_clickable((By.XPATH, '//html/body/main/section/form/div[1]/span[4]/div/ul/li[1]/a')))\n",
    "    download_charges_excel.click()                                                                           \n",
    "    \n",
    "    return_home = wait.until(ec.element_to_be_clickable((By.XPATH, '//*[@id=\"menuCabecera\"]/li[1]/a')))\n",
    "    return_home.click()\n",
    "    \n",
    "    incomes = wait.until(ec.element_to_be_clickable((By.XPATH, '/html/body/main/div/div/section/div[1]/form[1]/section/div/div[1]/div[1]/div[2]/div[3]/ul/li[1]')))\n",
    "    incomes.click()\n",
    "    \n",
    "    download_incomes_excel = wait.until(ec.element_to_be_clickable((By.XPATH, '/html/body/main/section/div[1]/span[1]/div[1]/form/ul/li[1]/a')))\n",
    "    download_incomes_excel.click()\n",
    "\n",
    "    \n",
    "    time.sleep(5)\n",
    "\n",
    "    browser.close()"
   ]
  },
  {
   "cell_type": "code",
   "execution_count": 11,
   "metadata": {},
   "outputs": [],
   "source": [
    "def move_file():\n",
    "    incomes_file = 'C:\\\\Users\\\\juanp\\\\Downloads\\\\movimientos.xls'\n",
    "    charges_file = 'C:\\\\Users\\\\juanp\\\\Downloads\\\\Movimientos (1).xls'\n",
    "    destination = 'C:\\\\Users\\\\juanp\\\\proyectos_varios\\\\expenses_control\\\\data'\n",
    "    \n",
    "    try:\n",
    "        shutil.move(charges_file,destination)\n",
    "        shutil.move(incomes_file, destination)\n",
    "    except: \n",
    "        pass\n",
    "    try:\n",
    "        os.replace(charges_file, destination)\n",
    "        os.replace(incomes_file, destination)\n",
    "    except:\n",
    "        pass"
   ]
  },
  {
   "cell_type": "markdown",
   "metadata": {},
   "source": [
    "### Categorization lists"
   ]
  },
  {
   "cell_type": "code",
   "execution_count": 12,
   "metadata": {},
   "outputs": [],
   "source": [
    "### Main categories\n",
    "\n",
    "cash_out = ['PAGO BIZUM A','TRANS /Juan Maria Perez Lloren','CAJERO BANKINTER', 'COMISION EXCESO', 'CAJERO',\n",
    "            'DZACARD','rmaffn','REDES INTERNACION','HUB', 'cash-out']\n",
    "\n",
    "cash_in = ['PAGO BIZUM DE', 'TRANSF NOMI','TRANS /PEREZ LLORENTE JUAN MAR', 'cash-in']\n",
    "\n",
    "transport = ['Wib Advance','METRO DE','EasyPark','Cabify','Uber','SANTA ANA,S.L',\n",
    "             'CARMEN PARDO VALCARC', 'ARAFRE','TAXI','E.S.',\n",
    "            'CEDIPSA', 'INDIGO MANOTERAS','transport']\n",
    "\n",
    "shopping = ['MOONDAY','THEBRUBAKER','SUPERMERCADO','UNIDE','MARKET','SUPERCOR','DECATHLON','EXPRESS','CORTEFIEL',\n",
    "           'ALBIE','PELUQUEROS','TATA GATEAU','MERCADONA','FERRETARIA','FARMACIA','SARRYMECA','ORIHUELA CAMPOAMOR','shopping']\n",
    "\n",
    "food_and_drinks = ['PEREGRINO','KUNFU CASTILLA','LA LLAMA','DIVINA DOLORES','RESTAURACION MARTI','CAFE'\n",
    "               ,'NEW YORK BURGER','MARTINGALA','RESTAURANTE','HELADERIA','EL CHILITO',\n",
    "              'TOPPINGS AND SALADS','BEFFCIOUS','TASTY POKE','SOTTGODIS','CORREQUESEQUEMA','BISTROTECA','ESPUMOSA'\n",
    "               ,'SUPER ABUELA','SHUMARA','BAR DA PRAIA','HIPODROMO','EL PATIO MAHOU','TAIGA','TONELADAS','MOE', 'BAMBU CLUB',\n",
    "              'MIMAYBE Y PONY', 'LA PEãUELA POZO', 'ADELA','POLLOFRE', 'VOLAPIE', 'TAIGA','hosteleria Navarro',\n",
    "                  'LAS TABLAS', 'SELFIE', 'KNIGHT AND', 'BROKERS', 'food_and_drinks']\n",
    "\n",
    "other_activities = ['CINESA', 'PLAYTOMIC','RECIB /CLUB DE PADEL Y TENIS F', 'PAYSECURE.EU', 'NYX*ABServiciosSelecta',\n",
    "                   'other_activities']\n",
    "\n",
    "subscriptions = ['HBO','MEDIUM', 'CLUB DEPORTIVO','MICAPPITAL','subscriptions']\n",
    "\n",
    "travel = ['LATAS SURF','HOSTELWORLD','SELINA','SINTRA','FLOWBIKES','RENFE','BLABLACAR','Busbud','ALSA','EDREAMS','AirEuropa'\n",
    "         'AUTOPISTA','GPV', 'RYANAIR','CONTINENTE BOM DIA', 'LEA RENTALS', 'travel']"
   ]
  },
  {
   "cell_type": "code",
   "execution_count": 102,
   "metadata": {},
   "outputs": [],
   "source": [
    "### Subcategories\n",
    "\n",
    "# shopping\n",
    "supermarkets = ['UNIDE','MARKET','SUPERCOR','EXPRESS','ALBIE','TATA GATEAU','MERCADONA',\n",
    "                'ORIHUELA CAMPOAMOR', 'CONTINENTE', 'SUPERMERCADO', 'FERRETARIA SILOS', 'supermarkets']\n",
    "\n",
    "clothing = ['MOONDAY','THEBRUBAKER','CORTEFIEL','clothing']\n",
    "\n",
    "\n",
    "other_shopping = ['PELUQUEROS','MERCADONA','FARMACIA','SARRYMECA','FERRETERIA','other_shopping']\n",
    "\n",
    "# food_and_drinks\n",
    "\n",
    "restaurants = ['PEREGRINO','KUNFU CASTILLA','LA LLAMA','DIVINA DOLORES','RESTAURACION MARTI','NEW YORK BURGER',\n",
    "               'RESTAURANTE', 'EL CHILITO', 'BEFFCIOUS', 'TASTY POKE', 'BISTROTECA','ESPUMOSA','HIPODROMO', 'MIMAYBE Y PONY',\n",
    "              'SUPER ABUELA','KNIGHT','VOLAPIE','restaurants']\n",
    "\n",
    "food = ['CAFE','HELADERIA','POLLOFRE','ORIENTE','food']\n",
    "\n",
    "drinks_and_clubs = ['TOPPINGS AND SALADS','SOTTGODIS','CORREQUESEQUEMA','SHUMARA','BAR DA PRAIA','EL PATIO MAHOU',\n",
    "                    'TAIGA','TONELADAS','MOE', 'BAMBU CLUB','LA PEãUELA POZO', 'ADELA', 'MARTINGALA'\n",
    "                    ,'hosteleria Navarro','SELFIE','LAS TABLAS',\n",
    "                    'drinks_and_clubs']\n",
    "\n",
    "# transport\n",
    "\n",
    "taxi = ['Cabify','Uber','TAXI', 'taxi']\n",
    "\n",
    "car_sharing = ['Wib Advance', 'Zity', 'BLABLACAR','car_sharing']\n",
    "\n",
    "bus_metro = ['METRO DE','Busbud','ALSA','RENFE','bus_metro']\n",
    "\n",
    "car = ['SANTA ANA,S.L','CARMEN PARDO VALCARC', 'ARAFRE','E.S.','CEDIPSA', 'AUTOPISTA','GPV','car']\n",
    "\n",
    "parking = ['easypark', 'INDIGO MANOTERAS', 'parking']\n",
    "\n",
    "plane = ['EDREAMS','AirEuropa', 'RYANAIR','plane']\n",
    "\n",
    "other_transport = ['FLOWBIKES','other_transport']\n",
    "\n",
    "# travel\n",
    "\n",
    "accomodation = ['LATAS SURF','HOSTELWORLD','SELINA','accomodation']\n",
    "\n",
    "# other_activities\n",
    "\n",
    "leisure = ['CINESA', 'SINTRA', 'HBO','leisure']\n",
    "\n",
    "sports = ['PLAYTOMIC','RECIB /CLUB DE PADEL Y TENIS F','DECATHLON', 'LEA RENTALS','CLUB DEPORTIVO JOSE VALEN'\n",
    "          ,'sports']\n",
    "\n",
    "academic = ['MEDIUM', 'academic']\n",
    "# cash-in cash-out\n",
    "\n",
    "penalty_fee = ['COMISION EXCESO','penalty_fee']\n",
    "\n",
    "savings = ['TRANS /Juan Maria Perez Lloren','MiCAPPITAL','savings']\n",
    "\n",
    "money_extraction = ['CAJERO','money_extraction']\n",
    "\n",
    "salary = ['TRANSF NOMI','salary']\n",
    "\n",
    "other_expenses = ['rmaffn','DZACARD', 'COM. USO REDES', 'HUB','PAYSECURE', 'NYX*ABServiciosSelecta',\n",
    "                  'EDISON PERCY HERRERA FALC','other_expenses']"
   ]
  },
  {
   "cell_type": "code",
   "execution_count": 139,
   "metadata": {},
   "outputs": [],
   "source": [
    "categories = [food_and_drinks,shopping, transport, cash_out, travel, other_activities, cash_in, subscriptions]"
   ]
  },
  {
   "cell_type": "code",
   "execution_count": 104,
   "metadata": {},
   "outputs": [],
   "source": [
    "subcategories = [supermarkets, clothing, sports, other_shopping, restaurants, food, drinks_and_clubs, taxi,\n",
    "                 car_sharing, bus_metro, car, plane, other_transport, parking, accomodation, leisure, sports, penalty_fee, \n",
    "                savings, money_extraction, salary, other_expenses, academic]"
   ]
  },
  {
   "cell_type": "code",
   "execution_count": 105,
   "metadata": {},
   "outputs": [],
   "source": [
    "def categorization(value):\n",
    "    for number in range(0, len(categories)):\n",
    "        for element in categories[number]:\n",
    "            if element.lower() in value.lower():\n",
    "                return categories[number][-1]\n",
    "            else:\n",
    "                pass"
   ]
  },
  {
   "cell_type": "code",
   "execution_count": 106,
   "metadata": {},
   "outputs": [],
   "source": [
    "def subcategorization(value):\n",
    "    for number in range(0, len(subcategories)):\n",
    "        for element in subcategories[number]:\n",
    "            if element.lower() in value.lower():\n",
    "                return subcategories[number][-1]\n",
    "            else:\n",
    "                pass"
   ]
  },
  {
   "cell_type": "code",
   "execution_count": 18,
   "metadata": {},
   "outputs": [],
   "source": [
    "def insert_object(df, collection):\n",
    "    '''\n",
    "    This function inserts all the information from the dataframe we created with the previous function as a Mongodb object.\n",
    "    This object will have two field: title (name of the film or show) and reviews (array with all the reviews users have made)\n",
    "    '''\n",
    "\n",
    "    collection.insert_many(df.to_dict('records'))"
   ]
  },
  {
   "cell_type": "code",
   "execution_count": 19,
   "metadata": {},
   "outputs": [],
   "source": [
    "def bizum_categorization():\n",
    "    date = str(input())\n",
    "    name = str(input())\n",
    "    qty = float(input())\n",
    "    category = str(input())\n",
    "    subcategory = str(input())\n",
    "    return move.update_one({'description':{'$regex':name},'date':date,\n",
    "                                  'quantity':qty},{'$set':{'category':category, 'subcategory': subcategory}})\n",
    "    "
   ]
  },
  {
   "cell_type": "code",
   "execution_count": 20,
   "metadata": {},
   "outputs": [],
   "source": [
    "def data_insert(path_charges, path_incomes, collection):\n",
    "    \n",
    "    incomes = pd.read_excel(path_incomes)[3:]\n",
    "    incomes.drop(['Unnamed: 1', 'Unnamed: 4'], axis = 1, inplace=True)\n",
    "    incomes.rename(columns={'IBAN: ES6701280067740100026987':'date', 'Unnamed: 2':'description', \n",
    "                            'Unnamed: 3':'quantity'}, inplace=True)\n",
    "    \n",
    "    charges = pd.read_excel(path_charges)\n",
    "    list_index = charges.index[charges[\"Número de tarjeta: Visa Clasi (....2133)\"]=='Total Crédito'].tolist()\n",
    "    for number in list_index:\n",
    "        limit_index = number\n",
    "    charges = charges[5:limit_index]\n",
    "    charges.drop(['Unnamed: 2'], axis = 1, inplace=True)\n",
    "    charges.rename(columns={'Número de tarjeta: Visa Clasi (....2133)':'date', 'Unnamed: 1':'description', \n",
    "                            'Unnamed: 3':'quantity'}, inplace=True)\n",
    "    charges['date'] = charges['date'].apply(lambda x: x.strftime('%d/%m/%Y'))\n",
    "    \n",
    "    complete = pd.concat([incomes, charges])\n",
    "    \n",
    "    current_month = datetime.today().date().replace(day=1).strftime('%m/%Y')\n",
    "    first_day_prev_month = datetime.today().replace(day=1) - timedelta(days=1)\n",
    "    prev_month = first_day_prev_month.strftime('%m/%Y')\n",
    "    complete.drop(complete[complete.description == 'RECIBO VISA CLASICA'].index, inplace = True)\n",
    "    \n",
    "    old = pd.DataFrame(list(move.find({'date':{'$regex':current_month}},{'_id':0,'category':0})))\n",
    "    \n",
    "    complete_up = complete.loc[complete['date'].str.contains(current_month)]\n",
    "    final_df = pd.concat([old, complete_up])\n",
    "    final_df.drop_duplicates(keep = False, inplace = True)\n",
    "    final_df['category'] = list(map(categorization, final_df['description']))\n",
    "    final_df['subcategory'] = list(map(subcategorization, final_df['description']))\n",
    "    os.remove('data\\\\movimientos.xls')\n",
    "    os.remove('data\\\\Movimientos (1).xls')\n",
    "    \n",
    "    option = input('What action do you want to take? - update or insert').lower()\n",
    "        \n",
    "    if option == 'insert':\n",
    "        insert_object(complete, move)\n",
    "        return 'Data succesfully inserted'\n",
    "\n",
    "    elif option == 'update':\n",
    "        if len(final_df) == 0:\n",
    "            return 'Nothing to update'\n",
    "        else:\n",
    "            insert_object(final_df, move)\n",
    "            ##insert_object(final_df, move)\n",
    "            return 'Data succesfully updated'"
   ]
  },
  {
   "cell_type": "code",
   "execution_count": 21,
   "metadata": {},
   "outputs": [],
   "source": [
    "def my_bank_movements():\n",
    "    \n",
    "    try:\n",
    "    \n",
    "        data_extraction()\n",
    "        \n",
    "    except:\n",
    "        \n",
    "        return 'There has been a problem with the conexion. Please, try again later'\n",
    "    \n",
    "    move_file()\n",
    "\n",
    "    return data_insert('data\\\\movimientos.xls', 'data\\\\Movimientos (1).xls', move)\n",
    "    "
   ]
  },
  {
   "cell_type": "code",
   "execution_count": 124,
   "metadata": {},
   "outputs": [],
   "source": [
    "df = collection_to_pd(move)"
   ]
  },
  {
   "cell_type": "code",
   "execution_count": null,
   "metadata": {},
   "outputs": [],
   "source": []
  },
  {
   "cell_type": "code",
   "execution_count": null,
   "metadata": {},
   "outputs": [],
   "source": []
  },
  {
   "cell_type": "markdown",
   "metadata": {},
   "source": [
    "### Visualization"
   ]
  },
  {
   "cell_type": "code",
   "execution_count": 119,
   "metadata": {},
   "outputs": [],
   "source": [
    "import matplotlib.pyplot as plt\n",
    "import seaborn as sns"
   ]
  },
  {
   "cell_type": "code",
   "execution_count": 126,
   "metadata": {},
   "outputs": [],
   "source": [
    "categories_count = df.category.value_counts()"
   ]
  },
  {
   "cell_type": "code",
   "execution_count": 127,
   "metadata": {},
   "outputs": [
    {
     "data": {
      "text/plain": [
       "food_and_drinks     146\n",
       "shopping             40\n",
       "transport            38\n",
       "cash-out             36\n",
       "travel               25\n",
       "other_activities     19\n",
       "cash-in              16\n",
       "subscriptions        10\n",
       "Name: category, dtype: int64"
      ]
     },
     "execution_count": 127,
     "metadata": {},
     "output_type": "execute_result"
    }
   ],
   "source": [
    "categories_count"
   ]
  },
  {
   "cell_type": "code",
   "execution_count": 138,
   "metadata": {},
   "outputs": [
    {
     "data": {
      "text/plain": [
       "pandas.core.series.Series"
      ]
     },
     "execution_count": 138,
     "metadata": {},
     "output_type": "execute_result"
    }
   ],
   "source": [
    "type(categories_count)"
   ]
  },
  {
   "cell_type": "code",
   "execution_count": 160,
   "metadata": {},
   "outputs": [],
   "source": [
    "category_name = ['food_and_drinks','shopping', 'transport', 'cash_out', 'travel',\n",
    "                 'other_activities', 'cash_in', 'subscriptions']\n",
    "colors = ['#ff9999','#66b3ff','#99ff99','#ffcc99']\n"
   ]
  },
  {
   "cell_type": "code",
   "execution_count": 154,
   "metadata": {},
   "outputs": [
    {
     "data": {
      "image/png": "[encoded data removed]",
      "text/plain": [
       "<Figure size 432x288 with 1 Axes>"
      ]
     },
     "metadata": {},
     "output_type": "display_data"
    }
   ],
   "source": [
    "plt.pie(categories_count, labels = category_name, colors = colors, autopct='%1.1f%%')\n",
    "plt.show()"
   ]
  },
  {
   "cell_type": "code",
   "execution_count": 166,
   "metadata": {},
   "outputs": [
    {
     "data": {
      "image/png": "[encoded data removed]",
      "text/plain": [
       "<Figure size 648x648 with 1 Axes>"
      ]
     },
     "metadata": {},
     "output_type": "display_data"
    }
   ],
   "source": [
    "fig1, ax1 = plt.subplots()\n",
    "\n",
    "ax1.pie(categories_count, labels = category_name, colors = colors, autopct='%1.1f%%', startangle=90,\n",
    "       pctdistance=0.85)\n",
    "\n",
    "centre_circle = plt.Circle((0,0),0.70,fc='white')\n",
    "fig = plt.gcf()\n",
    "fig.set_size_inches(9,9)\n",
    "fig.gca().add_artist(centre_circle)\n",
    "\n",
    "ax1.axis('equal')  \n",
    "plt.tight_layout()\n",
    "plt.show()"
   ]
  },
  {
   "cell_type": "code",
   "execution_count": null,
   "metadata": {},
   "outputs": [],
   "source": []
  }
 ],
 "metadata": {
  "kernelspec": {
   "display_name": "Python 3",
   "language": "python",
   "name": "python3"
  },
  "language_info": {
   "codemirror_mode": {
    "name": "ipython",
    "version": 3
   },
   "file_extension": ".py",
   "mimetype": "text/x-python",
   "name": "python",
   "nbconvert_exporter": "python",
   "pygments_lexer": "ipython3",
   "version": "3.9.1"
  }
 },
 "nbformat": 4,
 "nbformat_minor": 4
}
