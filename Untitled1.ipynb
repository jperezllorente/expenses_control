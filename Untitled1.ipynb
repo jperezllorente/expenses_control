{
 "cells": [
  {
   "cell_type": "code",
   "execution_count": 1,
   "metadata": {},
   "outputs": [],
   "source": [
    "import pandas as pd\n",
    "import numpy as np\n",
    "from pymongo import MongoClient, UpdateOne"
   ]
  },
  {
   "cell_type": "code",
   "execution_count": 2,
   "metadata": {},
   "outputs": [],
   "source": [
    "conn = MongoClient(\"localhost:27017\")\n",
    "db = conn.get_database(\"expenses_control\")\n",
    "move = db.get_collection('movements')"
   ]
  },
  {
   "cell_type": "code",
   "execution_count": 14,
   "metadata": {},
   "outputs": [],
   "source": [
    "data = pd.DataFrame(list(move.find({})))"
   ]
  },
  {
   "cell_type": "code",
   "execution_count": 16,
   "metadata": {},
   "outputs": [
    {
     "data": {
      "text/plain": [
       "['RECIBO VISA CLASICA',\n",
       " 'PAGO BIZUM DE GONZALO;SUARDIAZ',\n",
       " 'PAGO BIZUM DE Fernando;Munoz;T',\n",
       " 'PAGO BIZUM A Maria;Miguel;Narc',\n",
       " 'PAGO BIZUM DE ELENA;LLORENTE;P',\n",
       " 'PAGO BIZUM A CARLOS;AGUILAR;DE',\n",
       " 'PAGO BIZUM DE Pablo;Cardenas;C',\n",
       " 'PAGO BIZUM DE IGNACIO;RAMIRO;A',\n",
       " 'PAGO BIZUM DE Santiago;Ruesta;',\n",
       " 'PAGO BIZUM DE Gonzalo;Puy;Esca',\n",
       " 'PAGO BIZUM DE ELENA;LLORENTE;P',\n",
       " 'PAGO BIZUM DE ANA;PORTUGAL;REV',\n",
       " 'PAGO BIZUM DE MARTA;ROMERO;TOU',\n",
       " 'PAGO BIZUM DE JUAN MANUEL;PARA',\n",
       " 'PAGO BIZUM DE Diego;Montalvo;H',\n",
       " 'PAGO BIZUM A Pablo;Cardenas;Ca',\n",
       " 'PAGO BIZUM A Pablo;Cardenas;Ca',\n",
       " 'PAGO BIZUM DE Santiago;Ruesta;',\n",
       " 'PAGO BIZUM DE Santiago;Ruesta;',\n",
       " 'PAGO BIZUM DE MARGARITA BOLBOR',\n",
       " 'PAGO BIZUM A ANA;PEREZ;ALBERTO',\n",
       " 'PAGO BIZUM A Jose Ignacio;de S',\n",
       " 'PAGO BIZUM A GONZALO;NUNEZ;TES',\n",
       " 'PAGO BIZUM A GONZALO;NUNEZ;TES',\n",
       " 'PAGO BIZUM DE GONZALO;NUNEZ;TE',\n",
       " 'PAGO BIZUM A JOSE;LOPEZ;BENITO',\n",
       " 'PAGO BIZUM A JUAN;PARDO;GOMEZ',\n",
       " 'PAGO BIZUM A Fernando;Munoz;Ta',\n",
       " 'PAGO BIZUM A Santiago;Ruesta;L',\n",
       " 'PAGO BIZUM A Santiago;Ruesta;L',\n",
       " 'PAGO BIZUM A Santiago;Ruesta;L',\n",
       " 'PAGO BIZUM DE CARLOS;AGUILAR;D',\n",
       " 'PAGO BIZUM A Maria;Ruesta;Llor',\n",
       " 'PAGO BIZUM A Maria;Ruesta;Llor',\n",
       " 'PAGO BIZUM DE GONZALO;SUARDIAZ',\n",
       " 'PAGO BIZUM A ALBERTO;GARCIA;FL',\n",
       " 'TRANSF NOMI /JobandTalent-Madr',\n",
       " 'PAGO BIZUM A FERNANDO;YBANEZ;M',\n",
       " 'PAGO BIZUM A JOSE MARIA;PEREZ;',\n",
       " 'PAGO BIZUM A Gonzalo;Puy;Escar',\n",
       " 'PAGO BIZUM A ALBERTO;GARCIA;FL',\n",
       " 'Wib Advance Mobility S',\n",
       " 'SP * THEBRUBAKER.COM',\n",
       " 'M Y M PELUQUEROS',\n",
       " 'PLAYTOMIC.IO 08BF4347',\n",
       " 'SUPERMERCADO GAMA LA MASO',\n",
       " 'SUPERMERCADO UNIDE M 01',\n",
       " 'EL PEREGRINO',\n",
       " 'METRO DE MADRID, S.A. 1',\n",
       " 'FARMACIA LA MASO',\n",
       " 'SUPERMERCADO GAMA LA MASO',\n",
       " 'SARRYMECA S.L.',\n",
       " 'KUNFU CASTILLA',\n",
       " 'EL PATIO MAHOU',\n",
       " 'LA LLAMA',\n",
       " 'DIVINA DOLORES',\n",
       " 'COM. USO REDES INTERNACION.',\n",
       " 'EasyPark Espana S.L.U.',\n",
       " 'A MEDIUM CORPORATION',\n",
       " 'ME COMI UN POLLOFRE',\n",
       " 'LATAS SURF HOUSE 01',\n",
       " 'Cabify Espana',\n",
       " 'PLAYTOMIC.IO D99E2E99',\n",
       " 'UNIDE MARKET',\n",
       " 'SUPERCOR DOCTOR FLEMING',\n",
       " 'Wib Advance Mobility S',\n",
       " 'TONELADAS Y TONELADAS,',\n",
       " 'LATAS SURF HOUSE',\n",
       " '2.0 RESTAURACION MARTI',\n",
       " 'EasyPark Espana S.L.U.',\n",
       " 'SURF CAFE',\n",
       " 'LATAS SURF HOUSE',\n",
       " 'LATAS SURF HOUSE',\n",
       " 'LATAS SURF HOUSE',\n",
       " 'HIPODROMO DE LA ZARZUELA',\n",
       " 'HBO Nordic AB',\n",
       " 'ALBIE SA',\n",
       " 'SUPERMERCADO GAMA LA MASO',\n",
       " 'Wib Advance Mobility S',\n",
       " 'COMISION EXCESO LIMITE',\n",
       " 'PAGO BIZUM A JUAN MARIA;DIAZ F',\n",
       " 'PAGO BIZUM A JOSE;ALVAREZ;GALL',\n",
       " 'PAGO BIZUM A CARMEN;MELERO;TIM',\n",
       " 'RECIBO VISA CLASICA',\n",
       " 'TRANS /Juan Maria Perez Lloren',\n",
       " 'CAJERO BANKINTER  OF.0067',\n",
       " 'PAGO BIZUM A Pablo;Cardenas;Ca',\n",
       " 'PAGO BIZUM DE JULIA;CUERVO ARA',\n",
       " 'PAGO BIZUM DE Santiago;Ruesta;',\n",
       " 'TRANS /PEREZ LLORENTE JUAN MAR',\n",
       " 'PAGO BIZUM DE ELENA;LLORENTE;P',\n",
       " 'PAGO BIZUM DE ENRIQUE MARIA;PE',\n",
       " 'PAGO BIZUM DE ELENA;LLORENTE;P',\n",
       " 'PAGO BIZUM DE ELENA;LLORENTE;P',\n",
       " 'PAGO BIZUM A Francisco;Tomas;G',\n",
       " 'PAGO BIZUM A Santiago;Ruesta;L',\n",
       " 'PAGO BIZUM A Alicia;Oliveros;L',\n",
       " 'PAGO BIZUM DE Alicia;Oliveros;',\n",
       " 'PAGO BIZUM A Francisco;Tomas;G',\n",
       " 'PAGO BIZUM A JOSE MARIA;PEREZ;',\n",
       " 'PAGO BIZUM A Francisco;Tomas;G',\n",
       " 'PAGO BIZUM DE Ramon Antonio;Ga',\n",
       " 'PAGO BIZUM A Francisco;Tomas;G',\n",
       " 'PAGO BIZUM A ANE;ARMENTIA;TOUZ',\n",
       " 'PAGO BIZUM DE Gonzalo;Puy;Esca',\n",
       " 'PAGO BIZUM DE Gonzalo;Puy;Esca',\n",
       " 'TRANSF NOMI /JobandTalent-Madr',\n",
       " 'PAGO BIZUM A JOSE MARIA;PEREZ;',\n",
       " 'CAJERO BANKINTER  OF.0067',\n",
       " 'RENFE VIRTUAL INTERNET',\n",
       " 'EasyPark Espana S.L.U.',\n",
       " 'SUPERMERCADO GAMA LA MASO',\n",
       " 'ALSA INTERNET',\n",
       " 'SUPERCOR EXPRESS ARROYO F',\n",
       " 'NEW YORK BURGER',\n",
       " 'SUPERMERCADO GAMA LA MASO',\n",
       " 'LA MARTINGALA',\n",
       " 'E.S. SANTA ANA,S.L.',\n",
       " 'COM. USO REDES INTERNACION.',\n",
       " 'A MEDIUM CORPORATION',\n",
       " 'Cabify Espana',\n",
       " 'SHUMARA',\n",
       " 'RESTAURANTE CAMPOAMOR',\n",
       " 'HELADERIA NAVIA',\n",
       " 'AUTOPISTA DEL SURESTE (AU',\n",
       " 'SUPERMERCADO 24H',\n",
       " 'HBO Nordic AB',\n",
       " 'SHUMARA',\n",
       " 'HELADERIA NAVIA',\n",
       " 'ORIENTE',\n",
       " 'BAR DA PRAIA',\n",
       " 'SELINA PENICHE',\n",
       " 'SELINA BY FLOWBIKES',\n",
       " 'EL CHILITO',\n",
       " 'WWW.HOSTELWORLD.COM',\n",
       " 'Busbud Europe Limited',\n",
       " 'RECIBO VISA CLASICA',\n",
       " 'PAGO BIZUM A Santiago;Ruesta;L',\n",
       " 'PAGO BIZUM DE GONZALO;NUNEZ;TE',\n",
       " 'PAGO BIZUM DE ELENA;LLORENTE;P',\n",
       " 'PAGO BIZUM DE Santiago;Ruesta;',\n",
       " 'PAGO BIZUM DE JULIO;ROMERO;SER',\n",
       " 'PAGO BIZUM DE GONZALO;NUNEZ;TE',\n",
       " 'PAGO BIZUM DE JUAN MANUEL;PARA',\n",
       " 'PAGO BIZUM A CARMEN;SANCHEZTER',\n",
       " 'HUB',\n",
       " 'PARQUES DE SINTRA',\n",
       " 'BLABLACAR',\n",
       " 'CLUB DEPORTIVO JOSE VALEN',\n",
       " 'FERRETARIA SILOS',\n",
       " 'DECATHLON ALCOBENDAS',\n",
       " 'PAGO BIZUM DE JUAN MANUEL;PARA',\n",
       " 'PAGO BIZUM DE SILVIA;ORTIZ;DOM',\n",
       " 'PAGO BIZUM DE MARGARITA BOLBOR',\n",
       " 'PAGO BIZUM A CARLOS;AGUILAR;DE',\n",
       " 'TOPPINGS AND SALADS',\n",
       " 'TOPPINGS AND SALADS',\n",
       " 'MICAPPITAL',\n",
       " 'MOONDAY BRAND SL',\n",
       " 'EasyPark Espana S.L.U.',\n",
       " 'BEFFCIOUS',\n",
       " 'EXPRESS MELLADO',\n",
       " 'CINESA MANOTERAS MADRID',\n",
       " 'CINESA MANOTERAS MADRID',\n",
       " 'FUN. CARMEN PARDO VALCARC',\n",
       " 'TASTY POKE FOOD',\n",
       " 'SOTTGODIS',\n",
       " 'METRO DE MADRID, S.A. 1',\n",
       " 'COM. USO REDES INTERNACION.',\n",
       " 'A MEDIUM CORPORATION',\n",
       " 'SUPERMERCADO GAMA LA MASO',\n",
       " 'SUPERCOR EXPRESS ARROYO F',\n",
       " 'CORTEFIEL']"
      ]
     },
     "execution_count": 16,
     "metadata": {},
     "output_type": "execute_result"
    }
   ],
   "source": [
    "list(data['description'])"
   ]
  },
  {
   "cell_type": "code",
   "execution_count": 15,
   "metadata": {},
   "outputs": [],
   "source": [
    "data['category']=\"\""
   ]
  },
  {
   "cell_type": "code",
   "execution_count": 18,
   "metadata": {},
   "outputs": [
    {
     "ename": "ValueError",
     "evalue": "either both or neither of x and y should be given",
     "output_type": "error",
     "traceback": [
      "\u001b[1;31m---------------------------------------------------------------------------\u001b[0m",
      "\u001b[1;31mValueError\u001b[0m                                Traceback (most recent call last)",
      "\u001b[1;32m<ipython-input-18-96aa84a01a72>\u001b[0m in \u001b[0;36m<module>\u001b[1;34m\u001b[0m\n\u001b[1;32m----> 1\u001b[1;33m \u001b[0mdata\u001b[0m\u001b[1;33m[\u001b[0m\u001b[1;34m'category'\u001b[0m\u001b[1;33m]\u001b[0m \u001b[1;33m=\u001b[0m \u001b[0mnp\u001b[0m\u001b[1;33m.\u001b[0m\u001b[0mwhere\u001b[0m\u001b[1;33m(\u001b[0m\u001b[0mdata\u001b[0m\u001b[1;33m[\u001b[0m\u001b[1;34m'description'\u001b[0m\u001b[1;33m]\u001b[0m\u001b[1;33m.\u001b[0m\u001b[0mstr\u001b[0m\u001b[1;33m.\u001b[0m\u001b[0mcontains\u001b[0m\u001b[1;33m(\u001b[0m\u001b[1;34m'PAGO BIZUM'\u001b[0m\u001b[1;33m)\u001b[0m\u001b[1;33m,\u001b[0m \u001b[1;34m'pago bizum'\u001b[0m\u001b[1;33m)\u001b[0m\u001b[1;33m\u001b[0m\u001b[1;33m\u001b[0m\u001b[0m\n\u001b[0m",
      "\u001b[1;32m<__array_function__ internals>\u001b[0m in \u001b[0;36mwhere\u001b[1;34m(*args, **kwargs)\u001b[0m\n",
      "\u001b[1;31mValueError\u001b[0m: either both or neither of x and y should be given"
     ]
    }
   ],
   "source": [
    "data['category'] = np.where(data['description'].str.contains('PAGO BIZUM'), 'pago bizum')"
   ]
  },
  {
   "cell_type": "code",
   "execution_count": null,
   "metadata": {},
   "outputs": [],
   "source": []
  },
  {
   "cell_type": "code",
   "execution_count": null,
   "metadata": {},
   "outputs": [],
   "source": []
  },
  {
   "cell_type": "code",
   "execution_count": null,
   "metadata": {},
   "outputs": [],
   "source": []
  },
  {
   "cell_type": "code",
   "execution_count": null,
   "metadata": {},
   "outputs": [],
   "source": []
  },
  {
   "cell_type": "code",
   "execution_count": null,
   "metadata": {},
   "outputs": [],
   "source": []
  },
  {
   "cell_type": "code",
   "execution_count": null,
   "metadata": {},
   "outputs": [],
   "source": []
  },
  {
   "cell_type": "code",
   "execution_count": null,
   "metadata": {},
   "outputs": [],
   "source": []
  },
  {
   "cell_type": "code",
   "execution_count": null,
   "metadata": {},
   "outputs": [],
   "source": []
  },
  {
   "cell_type": "code",
   "execution_count": null,
   "metadata": {},
   "outputs": [],
   "source": []
  },
  {
   "cell_type": "code",
   "execution_count": null,
   "metadata": {},
   "outputs": [],
   "source": []
  },
  {
   "cell_type": "code",
   "execution_count": null,
   "metadata": {},
   "outputs": [],
   "source": []
  },
  {
   "cell_type": "code",
   "execution_count": null,
   "metadata": {},
   "outputs": [],
   "source": []
  },
  {
   "cell_type": "code",
   "execution_count": null,
   "metadata": {},
   "outputs": [],
   "source": []
  },
  {
   "cell_type": "code",
   "execution_count": null,
   "metadata": {},
   "outputs": [],
   "source": []
  },
  {
   "cell_type": "code",
   "execution_count": null,
   "metadata": {},
   "outputs": [],
   "source": []
  },
  {
   "cell_type": "code",
   "execution_count": null,
   "metadata": {},
   "outputs": [],
   "source": []
  },
  {
   "cell_type": "code",
   "execution_count": null,
   "metadata": {},
   "outputs": [],
   "source": []
  },
  {
   "cell_type": "code",
   "execution_count": null,
   "metadata": {},
   "outputs": [],
   "source": []
  },
  {
   "cell_type": "code",
   "execution_count": null,
   "metadata": {},
   "outputs": [],
   "source": []
  },
  {
   "cell_type": "code",
   "execution_count": null,
   "metadata": {},
   "outputs": [],
   "source": []
  },
  {
   "cell_type": "code",
   "execution_count": null,
   "metadata": {},
   "outputs": [],
   "source": []
  },
  {
   "cell_type": "code",
   "execution_count": null,
   "metadata": {},
   "outputs": [],
   "source": []
  },
  {
   "cell_type": "code",
   "execution_count": null,
   "metadata": {},
   "outputs": [],
   "source": []
  },
  {
   "cell_type": "code",
   "execution_count": null,
   "metadata": {},
   "outputs": [],
   "source": []
  },
  {
   "cell_type": "code",
   "execution_count": null,
   "metadata": {},
   "outputs": [],
   "source": []
  }
 ],
 "metadata": {
  "kernelspec": {
   "display_name": "Python 3",
   "language": "python",
   "name": "python3"
  },
  "language_info": {
   "codemirror_mode": {
    "name": "ipython",
    "version": 3
   },
   "file_extension": ".py",
   "mimetype": "text/x-python",
   "name": "python",
   "nbconvert_exporter": "python",
   "pygments_lexer": "ipython3",
   "version": "3.9.1"
  }
 },
 "nbformat": 4,
 "nbformat_minor": 4
}
