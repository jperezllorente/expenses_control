{
 "cells": [
  {
   "cell_type": "code",
   "execution_count": 1,
   "metadata": {},
   "outputs": [],
   "source": [
    "from selenium import webdriver\n",
    "from selenium.webdriver.common.keys import Keys\n",
    "import time\n",
    "from webdriver_manager.chrome import ChromeDriverManager\n",
    "from selenium.webdriver.support import expected_conditions as ec\n",
    "from selenium.webdriver.support.ui import WebDriverWait\n",
    "from selenium.webdriver.support.ui import Select\n",
    "from selenium.webdriver.common.action_chains import ActionChains\n",
    "from selenium.webdriver.common.by import By\n",
    "import os"
   ]
  },
  {
   "cell_type": "code",
   "execution_count": 2,
   "metadata": {},
   "outputs": [],
   "source": [
    "USERNAME = \"jpello6\"\n",
    "PASSWORD = \"fapell6\""
   ]
  },
  {
   "cell_type": "code",
   "execution_count": 16,
   "metadata": {},
   "outputs": [],
   "source": [
    "def broweselenium():\n",
    "    os.environ['WDM_LOG_LEVEL'] = '0'\n",
    "    browser = webdriver.Chrome(ChromeDriverManager().install())\n",
    "    wait = WebDriverWait(browser, 10)\n",
    "    browser.maximize_window()\n",
    "    browser.get(\"https://bancaonline.bankinter.com/gestion/login.xhtml\")\n",
    "    browser.implicitly_wait(5)\n",
    "    browser.find_element_by_xpath(\"//a[contains(text(),'aceptar')]\").click()\n",
    " \n",
    "    username = browser.find_element_by_name(\"uid\")\n",
    "    password = browser.find_element_by_name(\"password\")\n",
    "    \n",
    "    username.send_keys(USERNAME)\n",
    "    password.send_keys(PASSWORD)\n",
    "    browser.find_element_by_id(\"btEntrar\").click()\n",
    "    browser.implicitly_wait(5)\n",
    "\n",
    "    charges = wait.until(ec.element_to_be_clickable((By.XPATH, '/html/body/main/div/div/section/div[1]/form[1]/section/div/div[7]/div[1]/div[2]/div[3]/ul/li[1]')))\n",
    "    charges.click()\n",
    "    \n",
    "    download_charges_excel = wait.until(ec.element_to_be_clickable((By.XPATH, '/html/body/main/section/form/div[1]/span[4]/div/div/ul/li[1]/a')))\n",
    "    download_charges_excel.click()\n",
    "    \n",
    "    browser.implicitly_wait(10)\n",
    "    \n",
    "    browser.close()\n",
    "    \n",
    "    #browser.find_element_by_xpath('//*[@id=\"1\"]').click()\n",
    "    #time.sleep(1)\n",
    "    "
   ]
  },
  {
   "cell_type": "code",
   "execution_count": 17,
   "metadata": {},
   "outputs": [
    {
     "name": "stdout",
     "output_type": "stream",
     "text": [
      "\n",
      "\n"
     ]
    }
   ],
   "source": [
    "broweselenium()"
   ]
  },
  {
   "cell_type": "code",
   "execution_count": null,
   "metadata": {},
   "outputs": [],
   "source": []
  }
 ],
 "metadata": {
  "kernelspec": {
   "display_name": "Python 3",
   "language": "python",
   "name": "python3"
  },
  "language_info": {
   "codemirror_mode": {
    "name": "ipython",
    "version": 3
   },
   "file_extension": ".py",
   "mimetype": "text/x-python",
   "name": "python",
   "nbconvert_exporter": "python",
   "pygments_lexer": "ipython3",
   "version": "3.9.1"
  }
 },
 "nbformat": 4,
 "nbformat_minor": 4
}
