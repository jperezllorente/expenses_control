{
 "cells": [
  {
   "cell_type": "code",
   "execution_count": 3,
   "metadata": {},
   "outputs": [],
   "source": [
    "import pandas as pd\n",
    "import numpy as np\n",
    "from pymongo import MongoClient, UpdateOne\n",
    "from datetime import datetime, timedelta\n",
    "import glob, os, shutil\n",
    "import time"
   ]
  },
  {
   "cell_type": "code",
   "execution_count": 4,
   "metadata": {},
   "outputs": [],
   "source": [
    "from selenium import webdriver\n",
    "from selenium.webdriver.common.keys import Keys\n",
    "from webdriver_manager.chrome import ChromeDriverManager\n",
    "from selenium.webdriver.support import expected_conditions as ec\n",
    "from selenium.webdriver.support.ui import WebDriverWait\n",
    "from selenium.webdriver.support.ui import Select\n",
    "from selenium.webdriver.common.action_chains import ActionChains\n",
    "from selenium.webdriver.common.by import By"
   ]
  },
  {
   "cell_type": "markdown",
   "metadata": {},
   "source": [
    "### MongoDB Conexion"
   ]
  },
  {
   "cell_type": "code",
   "execution_count": 5,
   "metadata": {},
   "outputs": [],
   "source": [
    "conn = MongoClient(\"localhost:27017\")\n",
    "db = conn.get_database(\"expenses_control\")"
   ]
  },
  {
   "cell_type": "code",
   "execution_count": 6,
   "metadata": {},
   "outputs": [],
   "source": [
    "move = db.get_collection('movements')"
   ]
  },
  {
   "cell_type": "code",
   "execution_count": 47,
   "metadata": {},
   "outputs": [],
   "source": [
    "def remove_docs():\n",
    "    return move.remove({})"
   ]
  },
  {
   "cell_type": "markdown",
   "metadata": {},
   "source": [
    "### Downloading and preparing bank data"
   ]
  },
  {
   "cell_type": "code",
   "execution_count": 7,
   "metadata": {},
   "outputs": [],
   "source": [
    "USERNAME = \"jpello6\"\n",
    "PASSWORD = \"fapell6\""
   ]
  },
  {
   "cell_type": "code",
   "execution_count": 16,
   "metadata": {},
   "outputs": [],
   "source": [
    "def data_extraction():\n",
    "    \n",
    "    os.environ['WDM_LOG_LEVEL'] = '0'\n",
    "    browser = webdriver.Chrome(ChromeDriverManager().install())\n",
    "    wait = WebDriverWait(browser, 10)\n",
    "    browser.maximize_window()\n",
    "    browser.get(\"https://bancaonline.bankinter.com/gestion/login.xhtml\")\n",
    "    browser.implicitly_wait(5)\n",
    "    browser.find_element_by_xpath(\"//a[contains(text(),'aceptar')]\").click()\n",
    " \n",
    "    username = browser.find_element_by_name(\"uid\")\n",
    "    password = browser.find_element_by_name(\"password\")\n",
    "    \n",
    "    username.send_keys(USERNAME)\n",
    "    password.send_keys(PASSWORD)\n",
    "    browser.find_element_by_id(\"btEntrar\").click()\n",
    "    browser.implicitly_wait(5)\n",
    "    \n",
    "    charges = wait.until(ec.element_to_be_clickable((By.XPATH, '/html/body/main/div/div/section/div[1]/form[1]/section/div/div[7]/div[1]/div[2]/div[3]/ul/li[1]')))\n",
    "    charges.click()\n",
    "    \n",
    "    download_charges_excel = wait.until(ec.element_to_be_clickable((By.XPATH, '/html/body/main/section/form/div[1]/span[4]/div/div/ul/li[1]/a')))\n",
    "    download_charges_excel.click()\n",
    "    \n",
    "    return_home = wait.until(ec.element_to_be_clickable((By.XPATH, '//*[@id=\"menuCabecera\"]/li[1]/a')))\n",
    "    return_home.click()\n",
    "    \n",
    "    incomes = wait.until(ec.element_to_be_clickable((By.XPATH, '/html/body/main/div/div/section/div[1]/form[1]/section/div/div[1]/div[1]/div[2]/div[3]/ul/li[1]')))\n",
    "    incomes.click()\n",
    "    \n",
    "    download_incomes_excel = wait.until(ec.element_to_be_clickable((By.XPATH, '/html/body/main/section/div[1]/span[1]/div[1]/form/ul/li[1]/a')))\n",
    "    download_incomes_excel.click()\n",
    "\n",
    "    \n",
    "    time.sleep(5)\n",
    "\n",
    "    browser.close()"
   ]
  },
  {
   "cell_type": "code",
   "execution_count": 9,
   "metadata": {},
   "outputs": [],
   "source": [
    "def move_file():\n",
    "    incomes_file = 'C:\\\\Users\\\\juanp\\\\Downloads\\\\movimientos.xls'\n",
    "    charges_file = 'C:\\\\Users\\\\juanp\\\\Downloads\\\\Movimientos (1).xls'\n",
    "    destination = 'C:\\\\Users\\\\juanp\\\\proyectos_varios\\\\expenses_control\\\\data'\n",
    "    \n",
    "    try:\n",
    "        shutil.move(charges_file,destination)\n",
    "        shutil.move(incomes_file, destination)\n",
    "    except: \n",
    "        pass\n",
    "    try:\n",
    "        os.replace(charges_file, destination)\n",
    "        os.replace(incomes_file, destination)\n",
    "    except:\n",
    "        pass"
   ]
  },
  {
   "cell_type": "code",
   "execution_count": 10,
   "metadata": {},
   "outputs": [],
   "source": [
    "def insert_object(df, collection):\n",
    "    '''\n",
    "    This function inserts all the information from the dataframe we created with the previous function as a Mongodb object.\n",
    "    This object will have two field: title (name of the film or show) and reviews (array with all the reviews users have made)\n",
    "    '''\n",
    "\n",
    "    collection.insert_many(df.to_dict('records'))"
   ]
  },
  {
   "cell_type": "code",
   "execution_count": 11,
   "metadata": {},
   "outputs": [],
   "source": [
    "def data_insert(path_charges, path_incomes, collection):\n",
    "    \n",
    "    incomes = pd.read_excel(path_incomes)[3:]\n",
    "    incomes.drop(['Unnamed: 1', 'Unnamed: 4'], axis = 1, inplace=True)\n",
    "    incomes.rename(columns={'IBAN: ES6701280067740100026987':'date', 'Unnamed: 2':'description', \n",
    "                            'Unnamed: 3':'quantity'}, inplace=True)\n",
    "    \n",
    "    charges = pd.read_excel(path_charges)\n",
    "    list_index = charges.index[charges[\"Número de tarjeta: Visa Clasi (....2232)\"]=='Total Crédito'].tolist()\n",
    "    for number in list_index:\n",
    "        limit_index = number\n",
    "    charges = charges[5:limit_index]\n",
    "    charges.drop(['Unnamed: 2'], axis = 1, inplace=True)\n",
    "    charges.rename(columns={'Número de tarjeta: Visa Clasi (....2232)':'date', 'Unnamed: 1':'description', \n",
    "                            'Unnamed: 3':'quantity'}, inplace=True)\n",
    "    charges['date'] = charges['date'].apply(lambda x: x.strftime('%d/%m/%Y'))\n",
    "    \n",
    "    complete = pd.concat([incomes, charges])\n",
    "    \n",
    "    current_month = datetime.today().date().replace(day=1).strftime('%m/%Y')\n",
    "    first_day_prev_month = datetime.today().replace(day=1) - timedelta(days=1)\n",
    "    prev_month = first_day_prev_month.strftime('%m/%Y')\n",
    "    \n",
    "    old = pd.DataFrame(list(move.find({'date':{'$regex':current_month}},{'_id':0})))\n",
    "\n",
    "    option = input('What action do you want to take? - update or insert').lower()\n",
    "    \n",
    "    if option != 'update' or option != 'insert':\n",
    "        print('Invalid action. Action must be either update or insert.')\n",
    "        option = input('What action do you want to take? - update or insert').lower()\n",
    "        \n",
    "        if option == 'insert':\n",
    "            insert_object(complete, move)\n",
    "            return 'Data succesfully inserted'\n",
    "    \n",
    "        elif option == 'update':\n",
    "            complete_up = complete.loc[complete['date'].str.contains(current_month)]\n",
    "            final_df = pd.concat([old, complete_up])\n",
    "            final_df.drop_duplicates(keep = False, inplace = True)\n",
    "        \n",
    "            if len(final_df) == 0:\n",
    "                return 'Nothing to update'\n",
    "            else:\n",
    "                insert_object(final_df, move)\n",
    "                return 'Data succesfully updated'\n",
    "        \n",
    "    \n",
    "    \n",
    "        "
   ]
  },
  {
   "cell_type": "code",
   "execution_count": 17,
   "metadata": {},
   "outputs": [],
   "source": [
    "def my_bank_movements():\n",
    "    \n",
    "    try:\n",
    "    \n",
    "        data_extraction()\n",
    "        \n",
    "    except:\n",
    "        \n",
    "        return 'There has been a problem with the conexion. Please, try again later'\n",
    "    \n",
    "    move_file()\n",
    "\n",
    "    return data_insert('data\\\\movimientos.xls', 'data\\\\Movimientos (1).xls', move)\n",
    "    "
   ]
  },
  {
   "cell_type": "code",
   "execution_count": 18,
   "metadata": {},
   "outputs": [
    {
     "name": "stdout",
     "output_type": "stream",
     "text": [
      "\n",
      "\n"
     ]
    },
    {
     "data": {
      "text/plain": [
       "'There has been a problem with the conexion. Please, try again later'"
      ]
     },
     "execution_count": 18,
     "metadata": {},
     "output_type": "execute_result"
    }
   ],
   "source": [
    "my_bank_movements()"
   ]
  },
  {
   "cell_type": "code",
   "execution_count": null,
   "metadata": {},
   "outputs": [],
   "source": []
  }
 ],
 "metadata": {
  "kernelspec": {
   "display_name": "Python 3",
   "language": "python",
   "name": "python3"
  }
 },
 "nbformat": 4,
 "nbformat_minor": 4
}
